{
  "cells": [
    {
      "cell_type": "markdown",
      "source": [
        "# EECE-571T - Assignment 2"
      ],
      "metadata": {
        "id": "z0ffSZLoVp1F"
      }
    },
    {
      "cell_type": "markdown",
      "source": [
        "### Mount on Google Drive\n"
      ],
      "metadata": {
        "id": "qV_f-VYWoFpy"
      }
    },
    {
      "cell_type": "code",
      "source": [
        "from google.colab import drive\n",
        "drive.mount('/content/gdrive', force_remount=True)"
      ],
      "metadata": {
        "id": "HQmqVUUZqbEE",
        "colab": {
          "base_uri": "https://localhost:8080/"
        },
        "outputId": "1cbc5103-0aa5-41b4-f676-4464f6d7ddc4"
      },
      "execution_count": 1,
      "outputs": [
        {
          "output_type": "stream",
          "name": "stdout",
          "text": [
            "Mounted at /content/gdrive\n"
          ]
        }
      ]
    },
    {
      "cell_type": "code",
      "source": [
        "%cd gdrive/My Drive/Colab Notebooks/EECE571T_asn2/"
      ],
      "metadata": {
        "id": "Ha-dMtFxqfT-",
        "colab": {
          "base_uri": "https://localhost:8080/"
        },
        "outputId": "15152aa7-b56c-46f8-90cd-4a3584cec1c4"
      },
      "execution_count": 2,
      "outputs": [
        {
          "output_type": "stream",
          "name": "stdout",
          "text": [
            "/content/gdrive/My Drive/Colab Notebooks/EECE571T_asn2\n"
          ]
        }
      ]
    },
    {
      "cell_type": "markdown",
      "source": [
        "### Imports"
      ],
      "metadata": {
        "id": "PpLqwKc9UjKl"
      }
    },
    {
      "cell_type": "code",
      "execution_count": 3,
      "metadata": {
        "id": "_7AAgEL2nHGg",
        "colab": {
          "base_uri": "https://localhost:8080/"
        },
        "outputId": "100713bf-c11e-4d7d-f74d-05a07b1ddb87"
      },
      "outputs": [
        {
          "output_type": "stream",
          "name": "stdout",
          "text": [
            "Running on torch.__version__ =  1.13.1+cu116\n"
          ]
        }
      ],
      "source": [
        "import time\n",
        "import numpy as np\n",
        "import pandas as pd\n",
        "import random\n",
        "import matplotlib.pyplot as plt\n",
        "\n",
        "# import standard PyTorch modules\n",
        "import torch\n",
        "import torch.nn as nn\n",
        "import torch.optim as optim\n",
        "\n",
        "# import torchvision module to handle image manipulation\n",
        "import torchvision\n",
        "import torchvision.transforms as transforms\n",
        "print(\"Running on torch.__version__ = \", torch.__version__)\n",
        "\n",
        "torch.backends.cudnn.deterministic = True\n",
        "\n",
        "# utils\n",
        "import os\n",
        "from tqdm import tqdm\n",
        "tqdm.pandas()\n",
        "from collections import Counter"
      ]
    },
    {
      "cell_type": "markdown",
      "source": [
        "### Helper Functions"
      ],
      "metadata": {
        "id": "TUVmUx8PY4YA"
      }
    },
    {
      "cell_type": "code",
      "source": [
        "# a function to move tensors from the CPU to the GPU and vice versa\n",
        "def dict_to_device(orig, device):\n",
        "    new = {}\n",
        "    for k,v in orig.items():\n",
        "        new[k] = v.to(device)\n",
        "    return new\n",
        "\n",
        "# a function to make gray-scale images the same shape as color images\n",
        "def gray_to_color(x):\n",
        "    return x.repeat(3, 1, 1)\n",
        "\n",
        "# a function to plot a batch of images together\n",
        "def plot_images(img, ax):\n",
        "    img = torchvision.utils.make_grid(img)\n",
        "    npimg = img.numpy()\n",
        "    ax.imshow(np.transpose(npimg, (1, 2, 0)))  "
      ],
      "metadata": {
        "id": "de-TYlriY6ZE"
      },
      "execution_count": 4,
      "outputs": []
    },
    {
      "cell_type": "markdown",
      "source": [
        "## Q1"
      ],
      "metadata": {
        "id": "riEkmtv8VtaX"
      }
    },
    {
      "cell_type": "markdown",
      "source": [
        "### Dataset and Dataloader"
      ],
      "metadata": {
        "id": "ia3AtMLRU0Zz"
      }
    },
    {
      "cell_type": "code",
      "execution_count": 5,
      "metadata": {
        "id": "UGwIBAY3SYRy"
      },
      "outputs": [],
      "source": [
        "# Use standard MNIST dataset\n",
        "class MyDataset(torchvision.datasets.MNIST):    \n",
        "    def __init__(self, *args, debug=False, **kwargs):\n",
        "        super().__init__(*args, **kwargs)\n",
        "        self.debug = debug\n",
        "    \n",
        "    def __getitem__(self, idx):\n",
        "        data = super().__getitem__(idx)\n",
        "        img = data[0]\n",
        "        label = data[1]\n",
        "        return {'image': img, 'label': label}\n",
        "    \n",
        "    def __len__(self):\n",
        "        return super().__len__()\n",
        "\n",
        "dataset = MyDataset(\n",
        "    root = './',\n",
        "    train = True,\n",
        "    download = True,\n",
        "    transform = transforms.Compose([\n",
        "        transforms.ToTensor(),\n",
        "        gray_to_color,\n",
        "    ]),\n",
        "    debug=True,\n",
        ")\n",
        "\n",
        "loader = torch.utils.data.DataLoader(dataset, batch_size=128, num_workers=0)"
      ]
    },
    {
      "cell_type": "markdown",
      "source": [
        "### ToDo: train, validation, test split\n",
        "\n",
        "The standard MNIST dataset does not provide a validation set. Use 20% of the training data as the validation set.\n",
        "\n",
        "The standard MNIST dataset has a test set, and you can download it similar to downloading the train set, only by setting the train label to 'False'. Use the test set only for final the evaluation."
      ],
      "metadata": {
        "id": "P0lazZkraP8M"
      }
    },
    {
      "cell_type": "code",
      "source": [
        "# ToDo: load the test set\n",
        "# mnist_trainset = dataset(root='./data', train=True, download=True, transform=None)\n",
        "# mnist_testset = datasets.MNIST(root='./data', train=False, download=True, transform=None)\n",
        "dataset_test = MyDataset(\n",
        "    root = './',\n",
        "    train = False,\n",
        "    download = True,\n",
        "    transform = transforms.Compose([\n",
        "        transforms.ToTensor(),\n",
        "        gray_to_color,\n",
        "    ]),\n",
        "    debug=True,\n",
        ")\n",
        "loader_test = torch.utils.data.DataLoader(dataset_test, batch_size=128, num_workers=0)"
      ],
      "metadata": {
        "id": "uJ5ZEChSWYFV"
      },
      "execution_count": 6,
      "outputs": []
    },
    {
      "cell_type": "code",
      "source": [
        "len(loader)"
      ],
      "metadata": {
        "colab": {
          "base_uri": "https://localhost:8080/"
        },
        "id": "v0MygpLqMqIB",
        "outputId": "b7303854-4aa8-4651-c018-0f2d4ceabec1"
      },
      "execution_count": 7,
      "outputs": [
        {
          "output_type": "execute_result",
          "data": {
            "text/plain": [
              "469"
            ]
          },
          "metadata": {},
          "execution_count": 7
        }
      ]
    },
    {
      "cell_type": "code",
      "source": [
        "len(loader_test)"
      ],
      "metadata": {
        "colab": {
          "base_uri": "https://localhost:8080/"
        },
        "id": "qONG3FV0M0f3",
        "outputId": "19387bef-9740-4db8-871d-f1323fb7c1c8"
      },
      "execution_count": 8,
      "outputs": [
        {
          "output_type": "execute_result",
          "data": {
            "text/plain": [
              "79"
            ]
          },
          "metadata": {},
          "execution_count": 8
        }
      ]
    },
    {
      "cell_type": "code",
      "source": [
        "# 128*469 # 60,032\n",
        "# 128*79 # 10,112\n",
        "# validation_size = 128*469*0.2 \n",
        "# train_size =  128*469*0.8\n",
        "# print(train_size, validation_size)\n",
        "# valid_batch = 469*0.2\n",
        "# train_batch = 469*0.8\n",
        "# print(train_batch, valid_batch)"
      ],
      "metadata": {
        "id": "98gX6EjSNRyB"
      },
      "execution_count": 9,
      "outputs": []
    },
    {
      "cell_type": "code",
      "source": [
        "# t_loader = torch.utils.data.DataLoader(dataset, batch_size=128, num_workers=0)\n",
        "# v_loader = torch.utils.data.DataLoader(dataset, batch_size=128, num_workers=0)\n",
        "len(dataset) # dataset.shape - doesn't work"
      ],
      "metadata": {
        "id": "5teLkUTmNug9",
        "colab": {
          "base_uri": "https://localhost:8080/"
        },
        "outputId": "0e2d8789-6007-49c4-cd81-a1e87361db3c"
      },
      "execution_count": 10,
      "outputs": [
        {
          "output_type": "execute_result",
          "data": {
            "text/plain": [
              "60000"
            ]
          },
          "metadata": {},
          "execution_count": 10
        }
      ]
    },
    {
      "cell_type": "code",
      "source": [
        "len(dataset_test)"
      ],
      "metadata": {
        "colab": {
          "base_uri": "https://localhost:8080/"
        },
        "id": "tk4UJhKDtmKf",
        "outputId": "4d6dd7f6-d99d-4c8c-f011-3bed6a825bf5"
      },
      "execution_count": 11,
      "outputs": [
        {
          "output_type": "execute_result",
          "data": {
            "text/plain": [
              "10000"
            ]
          },
          "metadata": {},
          "execution_count": 11
        }
      ]
    },
    {
      "cell_type": "code",
      "source": [
        "train = torchvision.datasets.MNIST('./', train = True, download=True, transform = transforms.Compose([\n",
        "        transforms.ToTensor(),\n",
        "        gray_to_color,\n",
        "    ]))"
      ],
      "metadata": {
        "id": "cmGVSi9MzWkv"
      },
      "execution_count": 12,
      "outputs": []
    },
    {
      "cell_type": "code",
      "source": [
        "# ToDo: split the training data into train and validation, and define the dataloaders\n",
        "from torch.utils.data import random_split\n",
        "train, val = random_split(dataset, [48000, 12000])\n",
        "train_loader = torch.utils.data.DataLoader(train, batch_size=128, num_workers=0)\n",
        "val_loader = torch.utils.data.DataLoader(val, batch_size=128, num_workers=0)\n",
        "test_loader = torch.utils.data.DataLoader(dataset_test, batch_size=128, num_workers=0)"
      ],
      "metadata": {
        "id": "noQlWs-Fbecq"
      },
      "execution_count": 13,
      "outputs": []
    },
    {
      "cell_type": "code",
      "source": [
        "# ToDo: print the size of train, validation, and test sets\n",
        "print('Train set: {}'.format(len(train)))\n",
        "print('Validation set: {}'.format(len(val)))\n",
        "print('Test set: {}'.format(len(dataset_test)))"
      ],
      "metadata": {
        "id": "TFgYOumlRZ8W",
        "colab": {
          "base_uri": "https://localhost:8080/"
        },
        "outputId": "b731fc5c-f9bb-411c-e16a-7ca98650adf0"
      },
      "execution_count": 14,
      "outputs": [
        {
          "output_type": "stream",
          "name": "stdout",
          "text": [
            "Train set: 48000\n",
            "Validation set: 12000\n",
            "Test set: 10000\n"
          ]
        }
      ]
    },
    {
      "cell_type": "markdown",
      "source": [
        "### Network"
      ],
      "metadata": {
        "id": "m-qcpHIZZsOY"
      }
    },
    {
      "cell_type": "code",
      "execution_count": 15,
      "metadata": {
        "id": "3rV9ktECSYRz",
        "colab": {
          "base_uri": "https://localhost:8080/"
        },
        "outputId": "b844b51b-478c-4df8-ccd1-3768638a5cb4"
      },
      "outputs": [
        {
          "output_type": "stream",
          "name": "stdout",
          "text": [
            "MyNetwork(\n",
            "  (conv1): Conv2d(3, 16, kernel_size=(3, 3), stride=(1, 1), padding=(1, 1))\n",
            "  (relu1): ReLU()\n",
            "  (pool1): MaxPool2d(kernel_size=2, stride=1, padding=0, dilation=1, ceil_mode=False)\n",
            "  (conv2): Conv2d(16, 32, kernel_size=(3, 3), stride=(1, 1), padding=(1, 1))\n",
            "  (relu2): ReLU()\n",
            "  (pool2): MaxPool2d(kernel_size=2, stride=1, padding=0, dilation=1, ceil_mode=False)\n",
            "  (fc): Linear(in_features=21632, out_features=10, bias=True)\n",
            ")\n"
          ]
        }
      ],
      "source": [
        "# an example of using available models in PyTorch\n",
        "class MyResNet(nn.Module):\n",
        "    def __init__(self):\n",
        "        super().__init__()\n",
        "        self.resnet18 = torchvision.models.resnet18(num_classes=10)\n",
        "    \n",
        "    def forward(self, input_dict):        \n",
        "        pred_label = self.resnet18(input_dict['image'])\n",
        "        return {'label': pred_label}\n",
        "\n",
        "# a simple CNN model, implemented from the scratch\n",
        "class MyNetwork(nn.Module):    \n",
        "    def __init__(self):\n",
        "        super(MyNetwork, self).__init__()\n",
        "        self.conv1 = nn.Conv2d(3, 16, kernel_size=3, stride=1, padding=1)\n",
        "        self.relu1 = nn.ReLU()\n",
        "        self.pool1 = nn.MaxPool2d(kernel_size=2, stride=1)\n",
        "        self.conv2 = nn.Conv2d(16, 32, kernel_size=3, stride=1, padding=1)\n",
        "        self.relu2 = nn.ReLU()\n",
        "        self.pool2 = nn.MaxPool2d(kernel_size=2, stride=1)        \n",
        "        self.fc = nn.Linear(32*26*26, 10)\n",
        "        \n",
        "    def forward(self, input_dict):                 \n",
        "        x = self.conv1(input_dict['image'])\n",
        "        x = self.relu1(x)\n",
        "        x = self.pool1(x)\n",
        "        x = self.conv2(x)\n",
        "        x = self.relu2(x)\n",
        "        x = self.pool2(x)        \n",
        "        x = x.view(x.size(0), -1)\n",
        "        x = self.fc(x)\n",
        "        pred_label = nn.functional.log_softmax(x, dim=1)\n",
        "\n",
        "        return {'label': pred_label}\n",
        "\n",
        "# You can choose either of the defined networks, or define your own neural net\n",
        "network = MyNetwork().to('cuda')\n",
        "print(network)"
      ]
    },
    {
      "cell_type": "markdown",
      "source": [
        "### Training"
      ],
      "metadata": {
        "id": "X82PEwzSZvXg"
      }
    },
    {
      "cell_type": "code",
      "source": [
        "# training loop\n",
        "%matplotlib inline\n",
        "from IPython import display\n",
        "\n",
        "# prepare plotting\n",
        "fig = plt.figure(figsize=(20, 5), dpi= 80, facecolor='w', edgecolor='k')\n",
        "axes = fig.subplots(1,3)\n",
        "\n",
        "optimizer = torch.optim.Adam(network.parameters(), lr=0.001)\n",
        "\n",
        "num_epochs = 5\n",
        "train_losses = []\n",
        "val_losses = []\n",
        "\n",
        "for e in range(num_epochs):\n",
        "    train_iter = iter(train_loader)\n",
        "    network.train()\n",
        "    for i in range(len(train_loader)):        \n",
        "        batch_cpu = next(train_iter)\n",
        "        batch_gpu = dict_to_device(batch_cpu, 'cuda')\n",
        "        pred = network(batch_gpu)\n",
        "        pred_cpu = dict_to_device(pred, 'cpu')\n",
        "        \n",
        "        # calculate the loss and backward the gradient\n",
        "        loss = nn.CrossEntropyLoss()(pred['label'], batch_gpu['label'])        \n",
        "        optimizer.zero_grad()\n",
        "        loss.backward()\n",
        "        optimizer.step()\n",
        "        train_losses.append(loss.item())           \n",
        "\n",
        "        if i%100==0:            \n",
        "            axes[0].cla()\n",
        "            axes[1].cla()            \n",
        "\n",
        "            # plot some sample image inputs\n",
        "            plot_images(batch_cpu['image'][0:1], ax=axes[0])    \n",
        "            axes[0].legend()\n",
        "            axes[0].set_title('sample input')\n",
        "\n",
        "            # plot the training error on a log plot\n",
        "            axes[1].plot(train_losses, label='loss')\n",
        "            axes[1].set_yscale('log')\n",
        "            axes[1].set_title('Training loss')\n",
        "            axes[1].set_xlabel('number of gradient iterations')\n",
        "            axes[1].legend()\n",
        "\n",
        "            # clear output window and diplay updated figure\n",
        "            display.clear_output(wait=True)\n",
        "            display.display(plt.gcf())\n",
        "            print(\"Training epoch {}, iteration {} of {} ({} %), loss={}\".format(e, i, len(train_loader), 100*i//len(train_loader), train_losses[-1]))            \n",
        "\n",
        "    val_iter = iter(val_loader)\n",
        "    network.eval()    \n",
        "    for i in range(len(val_loader)):\n",
        "        batch_cpu = next(val_iter)\n",
        "        batch_gpu = dict_to_device(batch_cpu, 'cuda')\n",
        "        pred = network(batch_gpu)\n",
        "        pred_cpu = dict_to_device(pred, 'cpu')\n",
        "        \n",
        "        # calculate the loss\n",
        "        with torch.no_grad():\n",
        "            loss = nn.CrossEntropyLoss()(pred['label'], batch_gpu['label'])        \n",
        "            val_losses.append(loss.item()) \n",
        "\n",
        "        if i%10==0: \n",
        "            axes[2].cla()            \n",
        "\n",
        "            # plot the validation error on a log plot\n",
        "            axes[2].plot(val_losses, label='loss')\n",
        "            axes[2].set_yscale('log')\n",
        "            axes[2].set_title('Validation loss')\n",
        "            axes[2].set_xlabel('number of gradient iterations')\n",
        "            axes[2].legend()\n",
        "\n",
        "            # clear output window and diplay updated figure\n",
        "            display.clear_output(wait=True)\n",
        "            display.display(plt.gcf())\n",
        "            print(\"Validation epoch {}, iteration {} of {} ({} %), loss={}\".format(e, i, len(val_loader), 100*i//len(val_loader), val_losses[-1]))            \n",
        "plt.close('all')"
      ],
      "metadata": {
        "id": "7K_GSHDCVUXB",
        "colab": {
          "base_uri": "https://localhost:8080/",
          "height": 286
        },
        "outputId": "aa19cc5d-741f-4dc1-87b0-418b1c36e641"
      },
      "execution_count": 16,
      "outputs": [
        {
          "output_type": "display_data",
          "data": {
            "text/plain": [
              "<Figure size 1600x400 with 3 Axes>"
            ],
            "image/png": "[encoded data removed]"
          },
          "metadata": {}
        },
        {
          "output_type": "stream",
          "name": "stdout",
          "text": [
            "Validation epoch 4, iteration 90 of 94 (95 %), loss=0.014906753785908222\n"
          ]
        }
      ]
    },
    {
      "cell_type": "markdown",
      "source": [
        "### ToDo: Evaluation\n",
        "\n",
        "Here we want to report the accuracy of the network's predictions. We have defined a function named 'get_accuracy' that returns the accuracy of the network on its input data.\n",
        "\n",
        "Here, we assumed that the network returns class probabilities as output. If your network returns class indices, you need to change this evaluation function as well.\n",
        "\n",
        "Print the accuracy of your network for the train, validation, and test sets."
      ],
      "metadata": {
        "id": "bLWTsDFJWgbP"
      }
    },
    {
      "cell_type": "code",
      "source": [
        "def get_accuracy(network, data_loader):\n",
        "    network.eval()\n",
        "    iterator = iter(data_loader)    \n",
        "    correct = 0\n",
        "    total = 0\n",
        "    for i in range(len(iterator)):        \n",
        "        batch_cpu = next(iterator)\n",
        "        batch_gpu = dict_to_device(batch_cpu, 'cuda')        \n",
        "        pred = network(batch_gpu)['label'].argmax(dim=1, keepdim=True)                                         \n",
        "        correct += pred.eq(batch_gpu['label'].view_as(pred)).sum().item()        \n",
        "        total += pred.shape[0]\n",
        "           \n",
        "    return correct / total"
      ],
      "metadata": {
        "id": "XfxpL80cWgPN"
      },
      "execution_count": 17,
      "outputs": []
    },
    {
      "cell_type": "code",
      "source": [
        "# ToDo: report accuracy on train, validation, and test sets\n",
        "train_acc = get_accuracy(network, train_loader)\n",
        "val_acc = get_accuracy(network, val_loader)\n",
        "test_acc = get_accuracy(network, test_loader)\n",
        "\n",
        "print(f\" training accuracy is {train_acc}\\n validation accuracy {val_acc}\\n test accuracy {test_acc}\")"
      ],
      "metadata": {
        "id": "QpLmlfSMVTQT",
        "colab": {
          "base_uri": "https://localhost:8080/"
        },
        "outputId": "2c4c76e3-34c5-470e-be5e-ce366b760ea9"
      },
      "execution_count": 18,
      "outputs": [
        {
          "output_type": "stream",
          "name": "stdout",
          "text": [
            " training accuracy is 0.9940208333333334\n",
            " validation accuracy 0.9859166666666667\n",
            " test accuracy 0.988\n"
          ]
        }
      ]
    },
    {
      "cell_type": "code",
      "source": [
        "# Some testing for me \n",
        "# %matplotlib inline\n",
        "# to_plot = ['input', 'output']\n",
        "\n",
        "# fig = plt.figure(figsize=(20, 5), dpi= 80, facecolor='w', edgecolor='k')\n",
        "# axes = fig.subplots(1,2)\n",
        "# plot_images(next(iter(train_loader))['image'], ax=axes[0])\n",
        "# plot_images(next(iter(train_loader))['image'][0:1], ax=axes[1])\n",
        "#\n",
        "# %matplotlib inline\n",
        "# to_plot = ['input', 'output']\n",
        "\n",
        "# fig = plt.figure(figsize=(20, 5), dpi= 80, facecolor='w', edgecolor='k')\n",
        "# axes = fig.subplots(1,2)\n",
        "# plot_images(next(iter(test_loader))['image'], ax=axes[0])\n",
        "# plot_images(next(iter(test_loader))['image'][0:1], ax=axes[1])"
      ],
      "metadata": {
        "id": "xzX5VfyCCy85"
      },
      "execution_count": 19,
      "outputs": []
    },
    {
      "cell_type": "code",
      "source": [
        "# ToDo: Plot the input images and output of your network for a few samples in the test set\n",
        "%matplotlib inline\n",
        "to_plot = ['input', 'output']\n",
        "\n",
        "fig = plt.figure(figsize=(20, 5), dpi= 80, facecolor='w', edgecolor='k')\n",
        "axes = fig.subplots(1)\n",
        "\n",
        "network.eval()\n",
        "test_iter = iter(test_loader)\n",
        "\n",
        "batch_cpu = next(test_iter)\n",
        "batch_gpu = dict_to_device(batch_cpu, 'cuda')\n",
        "pred = network(batch_gpu)['label'].argmax(dim=1, keepdim=True)\n",
        "\n",
        "\n",
        "plot_images(batch_cpu['image'][0:5], ax=axes)    \n",
        "axes.legend()\n",
        "axes.set_title('sample input')\n",
        "# pred['label'][0:1]\n",
        "print()\n",
        "print(f\" sample output - predictions: {pred[0:5][0][0]}, {pred[0:5][1][0]}, {pred[0:5][2][0]}, {pred[0:5][3][0]}, {pred[0:5][4][0]}\")"
      ],
      "metadata": {
        "id": "PorIeQrxYBxo",
        "colab": {
          "base_uri": "https://localhost:8080/",
          "height": 298
        },
        "outputId": "3f748df2-e6d7-4d88-a1ab-2b741f1a1b0d"
      },
      "execution_count": 20,
      "outputs": [
        {
          "output_type": "stream",
          "name": "stderr",
          "text": [
            "WARNING:matplotlib.legend:No artists with labels found to put in legend.  Note that artists whose label start with an underscore are ignored when legend() is called with no argument.\n"
          ]
        },
        {
          "output_type": "stream",
          "name": "stdout",
          "text": [
            "\n",
            " sample output - predictions: 7, 2, 1, 0, 4\n"
          ]
        },
        {
          "output_type": "display_data",
          "data": {
            "text/plain": [
              "<Figure size 1600x400 with 1 Axes>"
            ],
            "image/png": "[encoded data removed]"
          },
          "metadata": {}
        }
      ]
    },
    {
      "cell_type": "markdown",
      "source": [
        "## Q2"
      ],
      "metadata": {
        "id": "OWduSu89XD1_"
      }
    },
    {
      "cell_type": "markdown",
      "source": [
        "### Dataset and Dataloader"
      ],
      "metadata": {
        "id": "mOzcfTl5Y_K3"
      }
    },
    {
      "cell_type": "code",
      "execution_count": 21,
      "metadata": {
        "id": "kBL6xWU0Y_K7"
      },
      "outputs": [],
      "source": [
        "# Use standard MNIST dataset\n",
        "class AnomalyDataset(torch.utils.data.Dataset):\n",
        "    def __init__(self, data):          \n",
        "        self.data = data\n",
        "        self.digits = {0:[], 1:[], 2:[], 3:[], 4:[]}        \n",
        "        for idx in range(len(self.data)):    \n",
        "            digit = self.data[idx][1]\n",
        "            if digit in self.digits.keys():\n",
        "                self.digits[digit].append(idx)        \n",
        "\n",
        "    def __len__(self):\n",
        "        return len(self.data)\n",
        "\n",
        "    def __getitem__(self, index):      \n",
        "        norm, anomaly = random.sample(self.digits.keys(), k=2)\n",
        "        anomaly_loc, = random.sample([0, 1, 2], k=1)\n",
        "        norm1_idx, norm2_idx = random.sample(self.digits[norm], k=2)\n",
        "        anomaly_idx, = random.sample(self.digits[anomaly], k=1)\n",
        "        if anomaly_loc == 0:\n",
        "            img0 = self.data[anomaly_idx][0]\n",
        "            img1 = self.data[norm1_idx][0]\n",
        "            img2 = self.data[norm2_idx][0]\n",
        "        elif anomaly_loc == 1:\n",
        "            img0 = self.data[norm1_idx][0]\n",
        "            img1 = self.data[anomaly_idx][0]\n",
        "            img2 = self.data[norm2_idx][0]\n",
        "        elif anomaly_loc == 2:\n",
        "            img0 = self.data[norm1_idx][0]\n",
        "            img1 = self.data[norm2_idx][0]\n",
        "            img2 = self.data[anomaly_idx][0]          \n",
        "\n",
        "        return {'img0': img0, 'img1': img1, 'img2': img2, 'index': anomaly_loc}        \n",
        "\n",
        "dataset = AnomalyDataset(torchvision.datasets.MNIST(\n",
        "    root = './',\n",
        "    train = True,\n",
        "    download = True,\n",
        "    transform = transforms.Compose([\n",
        "        transforms.ToTensor(),\n",
        "        gray_to_color,\n",
        "    ])\n",
        "))\n",
        "\n",
        "loader = torch.utils.data.DataLoader(dataset, batch_size=128, num_workers=0)"
      ]
    },
    {
      "cell_type": "code",
      "source": [
        "print('Selected digits and their frequencies:')\n",
        "for key, value in loader.dataset.digits.items():\n",
        "    print(key, len(value))"
      ],
      "metadata": {
        "id": "ozpjw8-ccVje",
        "colab": {
          "base_uri": "https://localhost:8080/"
        },
        "outputId": "f2a1925d-5280-417c-d2ef-1e796c74fa23"
      },
      "execution_count": 22,
      "outputs": [
        {
          "output_type": "stream",
          "name": "stdout",
          "text": [
            "Selected digits and their frequencies:\n",
            "0 5923\n",
            "1 6742\n",
            "2 5958\n",
            "3 6131\n",
            "4 5842\n"
          ]
        }
      ]
    },
    {
      "cell_type": "markdown",
      "source": [
        "### ToDo: train, validation, test split\n",
        "\n",
        "Use 20% of the training data as the validation set.\n",
        "\n",
        "The standard MNIST dataset has a test set, and you can download it similar to downloading the train set, only by setting the train label to 'False'. Use the test set only for final the evaluation."
      ],
      "metadata": {
        "id": "spH6m-qn1TSZ"
      }
    },
    {
      "cell_type": "code",
      "source": [
        "# ToDo: load the test set\n",
        "test_set = AnomalyDataset(torchvision.datasets.MNIST(\n",
        "    root = './',\n",
        "    train = False,\n",
        "    download = True,\n",
        "    transform = transforms.Compose([\n",
        "        transforms.ToTensor(),\n",
        "        gray_to_color,\n",
        "    ])\n",
        "))"
      ],
      "metadata": {
        "id": "7ffVjsnYcBYh"
      },
      "execution_count": 23,
      "outputs": []
    },
    {
      "cell_type": "code",
      "source": [
        "len(dataset)"
      ],
      "metadata": {
        "colab": {
          "base_uri": "https://localhost:8080/"
        },
        "id": "-ITQeKXbL7Vt",
        "outputId": "ffd38cae-d6b2-46e8-d0d8-732122b4e585"
      },
      "execution_count": 24,
      "outputs": [
        {
          "output_type": "execute_result",
          "data": {
            "text/plain": [
              "60000"
            ]
          },
          "metadata": {},
          "execution_count": 24
        }
      ]
    },
    {
      "cell_type": "code",
      "source": [
        "len(test_set)"
      ],
      "metadata": {
        "colab": {
          "base_uri": "https://localhost:8080/"
        },
        "id": "a3Xgtn2sL-HQ",
        "outputId": "2750e1db-d44a-4091-f2bf-74055e03fef9"
      },
      "execution_count": 25,
      "outputs": [
        {
          "output_type": "execute_result",
          "data": {
            "text/plain": [
              "10000"
            ]
          },
          "metadata": {},
          "execution_count": 25
        }
      ]
    },
    {
      "cell_type": "code",
      "source": [
        "# ToDo: define the dataloaders\n",
        "from torch.utils.data import random_split\n",
        "train, val = random_split(dataset, [48000, 12000])\n",
        "\n",
        "train_loader = torch.utils.data.DataLoader(train, batch_size=128, num_workers=0)\n",
        "val_loader = torch.utils.data.DataLoader(val, batch_size=128, num_workers=0)\n",
        "test_loader = torch.utils.data.DataLoader(test_set, batch_size=128, num_workers=0)"
      ],
      "metadata": {
        "id": "9uZIh9v61TSZ"
      },
      "execution_count": 26,
      "outputs": []
    },
    {
      "cell_type": "code",
      "source": [
        "# ToDo: print the size of train, validation, and test sets\n",
        "print('Train set: {}'.format(len(train)))\n",
        "print('Validation set: {}'.format(len(val)))\n",
        "print('Test set: {}'.format(len(dataset_test)))"
      ],
      "metadata": {
        "id": "0dx5H2Z7SY1H",
        "colab": {
          "base_uri": "https://localhost:8080/"
        },
        "outputId": "7929ff81-2a48-42a9-b5a7-34a386c6fa79"
      },
      "execution_count": 27,
      "outputs": [
        {
          "output_type": "stream",
          "name": "stdout",
          "text": [
            "Train set: 48000\n",
            "Validation set: 12000\n",
            "Test set: 10000\n"
          ]
        }
      ]
    },
    {
      "cell_type": "markdown",
      "source": [
        "### ToDo: Network\n",
        "\n",
        "Implement a neural network that takes three images as input and returns the index of the image with the different digit.\n",
        "\n",
        "Your network should take a python dictionary as input and extract the input images from it. Your network should return a python dictionaly containing a key named 'index'."
      ],
      "metadata": {
        "id": "7wYMpiDnsfLI"
      }
    },
    {
      "cell_type": "code",
      "execution_count": 28,
      "metadata": {
        "id": "Ey8RaNhWsfLO",
        "colab": {
          "base_uri": "https://localhost:8080/"
        },
        "outputId": "965c7ae5-6403-4046-cc22-bd4f6997ac6c"
      },
      "outputs": [
        {
          "output_type": "stream",
          "name": "stdout",
          "text": [
            "MyNetwork(\n",
            "  (conv1): Conv2d(3, 16, kernel_size=(3, 3), stride=(1, 1), padding=(1, 1))\n",
            "  (relu1): ReLU()\n",
            "  (pool1): MaxPool2d(kernel_size=2, stride=1, padding=0, dilation=1, ceil_mode=False)\n",
            "  (batch_norm1): BatchNorm2d(16, eps=1e-05, momentum=0.1, affine=True, track_running_stats=True)\n",
            "  (conv2): Conv2d(16, 32, kernel_size=(3, 3), stride=(1, 1), padding=(1, 1))\n",
            "  (relu2): ReLU()\n",
            "  (pool2): MaxPool2d(kernel_size=2, stride=1, padding=0, dilation=1, ceil_mode=False)\n",
            "  (batch_norm2): BatchNorm2d(32, eps=1e-05, momentum=0.1, affine=True, track_running_stats=True)\n",
            "  (fc): Linear(in_features=68224, out_features=128, bias=True)\n",
            "  (fc2): Linear(in_features=128, out_features=3, bias=True)\n",
            ")\n"
          ]
        }
      ],
      "source": [
        "# ToDo: Implement your neural network from scratch\n",
        "class MyNetwork(nn.Module):    \n",
        "    def __init__(self):\n",
        "        super(MyNetwork, self).__init__()\n",
        "\n",
        "        # ToDo: code here\n",
        "        self.conv1 = nn.Conv2d(3, 16, kernel_size=3, stride=1, padding=1)\n",
        "        self.relu1 = nn.ReLU()\n",
        "        self.pool1 = nn.MaxPool2d(kernel_size=2, stride=1)\n",
        "        self.batch_norm1 = nn.BatchNorm2d(16)\n",
        "\n",
        "        self.conv2 = nn.Conv2d(16, 32, kernel_size=3, stride=1, padding=1)\n",
        "        self.relu2 = nn.ReLU()\n",
        "        self.pool2 = nn.MaxPool2d(kernel_size=2, stride=1)\n",
        "        self.batch_norm2 = nn.BatchNorm2d(32)\n",
        "        \n",
        "        # (W_in−F+2P)/S+1\n",
        "        # multiply by 3 cause 3 images and, 3 for the second arg because size 3 array for index\n",
        "        #self.fc = nn.Linear(32*82*26, 3)\n",
        "        self.fc = nn.Linear(32*82*26, 128)\n",
        "        self.fc2 = nn.Linear(128, 3)\n",
        "        #self.fc = nn.Linear(64*81*26, 3)\n",
        "        \n",
        "    def forward(self, input_dict):                         \n",
        "        img0 = input_dict['img0']        \n",
        "        img1 = input_dict['img1']\n",
        "        img2 = input_dict['img2']\n",
        "        \n",
        "        # ToDo: code here\n",
        "        l = ['img0', 'img1', 'img2']\n",
        "        preds = []\n",
        "        img = torch.cat((img0, img1, img2), 2)\n",
        "        #print(img.shape)\n",
        "        #print(img.shape) # torch.Size([128, 3, 84, 28])\n",
        "        x = self.conv1(img)\n",
        "        x = self.relu1(x)\n",
        "        x = self.pool1(x)\n",
        "        x = self.batch_norm1(x)\n",
        "\n",
        "        x = self.conv2(x)\n",
        "        x = self.relu2(x)\n",
        "        x = self.pool2(x)  \n",
        "        x = self.batch_norm2(x)     \n",
        "\n",
        "        x = x.view(x.size(0), -1)\n",
        "        #print(x.shape) # torch.Size([128, 68224])\n",
        "        x = self.fc(x)\n",
        "        x = self.relu2(x)\n",
        "        x = self.fc2(x)\n",
        "        #print(x.shape)\n",
        "        pred_index = nn.functional.log_softmax(x, dim=1)\n",
        "        \n",
        "        # Hint: use padding in conv layers to adjust the dimensions\n",
        "        # Hint: max-pooling and ReLU layers can be useful\n",
        "        # Hint: choose a suitable activation function for the last layer \n",
        "        \n",
        "\n",
        "        return {'index': pred_index}\n",
        "\n",
        "network = MyNetwork().to('cuda')\n",
        "print(network)"
      ]
    },
    {
      "cell_type": "markdown",
      "source": [
        "### ToDo: Training"
      ],
      "metadata": {
        "id": "tXtc6rhhtwGC"
      }
    },
    {
      "cell_type": "code",
      "source": [
        "# ToDo: define a suitable loss function \n",
        "def my_loss_function(predicted_index, target_index):\n",
        "\n",
        "  # code here\n",
        "  loss = nn.CrossEntropyLoss()(predicted_index, target_index) \n",
        "  return loss "
      ],
      "metadata": {
        "id": "li1mo8YCUeif"
      },
      "execution_count": 29,
      "outputs": []
    },
    {
      "cell_type": "code",
      "source": [
        "# training loop\n",
        "%matplotlib inline\n",
        "from IPython import display\n",
        "\n",
        "# prepare plotting\n",
        "fig = plt.figure(figsize=(20, 5), dpi= 80, facecolor='w', edgecolor='k')\n",
        "axes = fig.subplots(1,3)\n",
        "\n",
        "optimizer = torch.optim.Adam(network.parameters(), lr=0.001)\n",
        "\n",
        "num_epochs = 5\n",
        "train_losses = []\n",
        "val_losses = []\n",
        "\n",
        "for e in range(num_epochs):\n",
        "    train_iter = iter(train_loader)\n",
        "    network.train()\n",
        "    for i in range(len(train_loader)):        \n",
        "        batch_cpu = next(train_iter)\n",
        "        batch_gpu = dict_to_device(batch_cpu, 'cuda')\n",
        "        pred = network(batch_gpu)\n",
        "        pred_cpu = dict_to_device(pred, 'cpu')\n",
        "        \n",
        "        # calculate the loss and backward the gradient\n",
        "        loss = my_loss_function(pred['index'], batch_gpu['index'])        \n",
        "        optimizer.zero_grad()\n",
        "        loss.backward()\n",
        "        optimizer.step()\n",
        "        train_losses.append(loss.item())           \n",
        "\n",
        "        if i%100==0:            \n",
        "            axes[0].cla()\n",
        "            axes[1].cla()            \n",
        "\n",
        "            # plot some sample image inputs            \n",
        "            plot_images(torch.cat((batch_cpu['img0'][0:1], batch_cpu['img1'][0:1], batch_cpu['img2'][0:1]), 0), ax=axes[0])    \n",
        "            axes[0].legend()\n",
        "            axes[0].set_title('sample input')\n",
        "\n",
        "            # plot the training error on a log plot\n",
        "            axes[1].plot(train_losses, label='loss')\n",
        "            axes[1].set_yscale('log')\n",
        "            axes[1].set_title('Training loss')\n",
        "            axes[1].set_xlabel('number of gradient iterations')\n",
        "            axes[1].legend()\n",
        "\n",
        "            # clear output window and diplay updated figure\n",
        "            display.clear_output(wait=True)\n",
        "            display.display(plt.gcf())\n",
        "            print(\"Training epoch {}, iteration {} of {} ({} %), loss={}\".format(e, i, len(train_loader), 100*i//len(train_loader), train_losses[-1]))            \n",
        "\n",
        "    val_iter = iter(val_loader)\n",
        "    network.eval()    \n",
        "    for i in range(len(val_loader)):\n",
        "        batch_cpu = next(val_iter)\n",
        "        batch_gpu = dict_to_device(batch_cpu, 'cuda')\n",
        "        pred = network(batch_gpu)\n",
        "        pred_cpu = dict_to_device(pred, 'cpu')\n",
        "        \n",
        "        # calculate the loss\n",
        "        with torch.no_grad():\n",
        "            loss = my_loss_function(pred['index'], batch_gpu['index'])        \n",
        "            val_losses.append(loss.item()) \n",
        "\n",
        "        if i%10==0: \n",
        "            axes[2].cla()            \n",
        "\n",
        "            # plot the validation error on a log plot\n",
        "            axes[2].plot(val_losses, label='loss')\n",
        "            axes[2].set_yscale('log')\n",
        "            axes[2].set_title('Validation loss')\n",
        "            axes[2].set_xlabel('number of gradient iterations')\n",
        "            axes[2].legend()\n",
        "\n",
        "            # clear output window and diplay updated figure\n",
        "            display.clear_output(wait=True)\n",
        "            display.display(plt.gcf())\n",
        "            print(\"Validation epoch {}, iteration {} of {} ({} %), loss={}\".format(e, i, len(val_loader), 100*i//len(val_loader), val_losses[-1]))            \n",
        "plt.close('all')"
      ],
      "metadata": {
        "id": "Oz7ycBagtwGD",
        "colab": {
          "base_uri": "https://localhost:8080/",
          "height": 280
        },
        "outputId": "5d5746a1-3f64-4d04-f869-f6f2a17edb5a"
      },
      "execution_count": 30,
      "outputs": [
        {
          "output_type": "display_data",
          "data": {
            "text/plain": [
              "<Figure size 1600x400 with 3 Axes>"
            ],
            "image/png": "[encoded data removed]"
          },
          "metadata": {}
        },
        {
          "output_type": "stream",
          "name": "stdout",
          "text": [
            "Validation epoch 4, iteration 90 of 94 (95 %), loss=0.06197446957230568\n"
          ]
        }
      ]
    },
    {
      "cell_type": "markdown",
      "source": [
        "### ToDo: Evaluation\n",
        "\n",
        "Here we want to report the accuracy of the network's predictions. We have defined a function named 'get_accuracy' that returns the accuracy of the network on its input data.\n",
        "\n",
        "Here, we assumed that the network returns class probabilities as output. If your network returns class indices, you need to change this evaluation function as well.\n",
        "\n",
        "Print the accuracy of your network for the train, validation, and test sets."
      ],
      "metadata": {
        "id": "FZgyhGeBym3C"
      }
    },
    {
      "cell_type": "code",
      "source": [
        "def get_accuracy(network, data_loader):\n",
        "    network.eval()\n",
        "    iterator = iter(data_loader)    \n",
        "    correct = 0\n",
        "    total = 0\n",
        "    for i in range(len(iterator)):        \n",
        "        batch_cpu = next(iterator)\n",
        "        batch_gpu = dict_to_device(batch_cpu, 'cuda')        \n",
        "        pred = network(batch_gpu)['index'].argmax(dim=1, keepdim=True)                                         \n",
        "        correct += pred.eq(batch_gpu['index'].view_as(pred)).sum().item()        \n",
        "        total += pred.shape[0]\n",
        "           \n",
        "    return correct / total"
      ],
      "metadata": {
        "id": "hK6tKCwKym3M"
      },
      "execution_count": 31,
      "outputs": []
    },
    {
      "cell_type": "code",
      "source": [
        "# ToDo: report accuracy on train, validation, and test sets\n",
        "train_acc = get_accuracy(network, train_loader)\n",
        "val_acc = get_accuracy(network, val_loader)\n",
        "test_acc = get_accuracy(network, test_loader)\n",
        "print()\n",
        "print(f\" training accuracy is {train_acc}\\n validation accuracy {val_acc}\\n test accuracy {test_acc}\")"
      ],
      "metadata": {
        "id": "y3awYYf41IJ8",
        "colab": {
          "base_uri": "https://localhost:8080/"
        },
        "outputId": "f45a1119-efbb-419f-9364-a982b2e5de9b"
      },
      "execution_count": 32,
      "outputs": [
        {
          "output_type": "stream",
          "name": "stderr",
          "text": [
            "<ipython-input-21-f1fe172a35a6>:15: DeprecationWarning: Sampling from a set deprecated\n",
            "since Python 3.9 and will be removed in a subsequent version.\n",
            "  norm, anomaly = random.sample(self.digits.keys(), k=2)\n"
          ]
        },
        {
          "output_type": "stream",
          "name": "stdout",
          "text": [
            "\n",
            " training accuracy is 0.9895625\n",
            " validation accuracy 0.9891666666666666\n",
            " test accuracy 0.99\n"
          ]
        }
      ]
    },
    {
      "cell_type": "code",
      "source": [
        "# ToDo: Plot the input images and output of your network for a few samples in the test set\n",
        "%matplotlib inline\n",
        "to_plot = ['input', 'output']\n",
        "\n",
        "fig = plt.figure(figsize=(20, 5), dpi= 80, facecolor='w', edgecolor='k')\n",
        "axes = fig.subplots(1,2)\n",
        "\n",
        "test_iter = iter(test_loader)\n",
        "network.eval()\n",
        "batch_cpu = next(test_iter)\n",
        "batch_gpu = dict_to_device(batch_cpu, 'cuda')\n",
        "# pred = network(batch_gpu)['label'].argmax(dim=1, keepdim=True)\n",
        "pred = network(batch_gpu)['index'].argmax(dim=1, keepdim=True)\n",
        "\n",
        "plot_images(torch.cat((batch_cpu['img0'][0:1], batch_cpu['img1'][0:1], batch_cpu['img2'][0:1]), 0), ax=axes[0])   \n",
        "axes[0].legend()\n",
        "axes[0].set_title('sample input0')\n",
        "\n",
        "plot_images(torch.cat((batch_cpu['img0'][1:2], batch_cpu['img1'][1:2], batch_cpu['img2'][1:2]), 0), ax=axes[1])   \n",
        "axes[1].legend()\n",
        "axes[1].set_title('sample input1')\n",
        "print()\n",
        "print(f\" sample outputs - predictions: input0: {pred[0][0]} and input1: {pred[1][0]}\")"
      ],
      "metadata": {
        "id": "0TZ_ZGTTzEfe",
        "colab": {
          "base_uri": "https://localhost:8080/",
          "height": 324
        },
        "outputId": "1e1f9bb6-5550-4dd6-dcde-ff627d480761"
      },
      "execution_count": 33,
      "outputs": [
        {
          "output_type": "stream",
          "name": "stderr",
          "text": [
            "<ipython-input-21-f1fe172a35a6>:15: DeprecationWarning: Sampling from a set deprecated\n",
            "since Python 3.9 and will be removed in a subsequent version.\n",
            "  norm, anomaly = random.sample(self.digits.keys(), k=2)\n",
            "WARNING:matplotlib.legend:No artists with labels found to put in legend.  Note that artists whose label start with an underscore are ignored when legend() is called with no argument.\n",
            "WARNING:matplotlib.legend:No artists with labels found to put in legend.  Note that artists whose label start with an underscore are ignored when legend() is called with no argument.\n"
          ]
        },
        {
          "output_type": "stream",
          "name": "stdout",
          "text": [
            "\n",
            " sample outputs - predictions: input0: 1 and input1: 1\n"
          ]
        },
        {
          "output_type": "display_data",
          "data": {
            "text/plain": [
              "<Figure size 1600x400 with 2 Axes>"
            ],
            "image/png": "[encoded data removed]"
          },
          "metadata": {}
        }
      ]
    },
    {
      "cell_type": "markdown",
      "source": [
        "## Q3"
      ],
      "metadata": {
        "id": "GwAZBm99hfSk"
      }
    },
    {
      "cell_type": "markdown",
      "source": [
        "### Load and Tokenize Data"
      ],
      "metadata": {
        "id": "M516Ld3Lfnm9"
      }
    },
    {
      "cell_type": "code",
      "source": [
        "#pd.read_csv('./imdb_processed.csv')\n",
        "data = pd.read_csv('imdb_processed.csv')\n",
        "data.head()"
      ],
      "metadata": {
        "id": "TK_xBX9jbi_M",
        "colab": {
          "base_uri": "https://localhost:8080/",
          "height": 206
        },
        "outputId": "ef14add4-7d5b-409c-eeb9-8f6dbdcdf93d"
      },
      "execution_count": 34,
      "outputs": [
        {
          "output_type": "execute_result",
          "data": {
            "text/plain": [
              "                                           processed  label\n",
              "0  One reviewer mentioned watching Oz episode hoo...      1\n",
              "1  A wonderful little production . The filming te...      1\n",
              "2  I thought wonderful way spend time hot summer ...      1\n",
              "3  Basically family little boy Jake think zombie ...      0\n",
              "4  Petter Mattei Love Time Money visually stunnin...      1"
            ],
            "text/html": [
              "\n",
              "  <div id=\"df-a57e2835-1f95-49fa-9c7a-8f846850d842\">\n",
              "    <div class=\"colab-df-container\">\n",
              "      <div>\n",
              "<style scoped>\n",
              "    .dataframe tbody tr th:only-of-type {\n",
              "        vertical-align: middle;\n",
              "    }\n",
              "\n",
              "    .dataframe tbody tr th {\n",
              "        vertical-align: top;\n",
              "    }\n",
              "\n",
              "    .dataframe thead th {\n",
              "        text-align: right;\n",
              "    }\n",
              "</style>\n",
              "<table border=\"1\" class=\"dataframe\">\n",
              "  <thead>\n",
              "    <tr style=\"text-align: right;\">\n",
              "      <th></th>\n",
              "      <th>processed</th>\n",
              "      <th>label</th>\n",
              "    </tr>\n",
              "  </thead>\n",
              "  <tbody>\n",
              "    <tr>\n",
              "      <th>0</th>\n",
              "      <td>One reviewer mentioned watching Oz episode hoo...</td>\n",
              "      <td>1</td>\n",
              "    </tr>\n",
              "    <tr>\n",
              "      <th>1</th>\n",
              "      <td>A wonderful little production . The filming te...</td>\n",
              "      <td>1</td>\n",
              "    </tr>\n",
              "    <tr>\n",
              "      <th>2</th>\n",
              "      <td>I thought wonderful way spend time hot summer ...</td>\n",
              "      <td>1</td>\n",
              "    </tr>\n",
              "    <tr>\n",
              "      <th>3</th>\n",
              "      <td>Basically family little boy Jake think zombie ...</td>\n",
              "      <td>0</td>\n",
              "    </tr>\n",
              "    <tr>\n",
              "      <th>4</th>\n",
              "      <td>Petter Mattei Love Time Money visually stunnin...</td>\n",
              "      <td>1</td>\n",
              "    </tr>\n",
              "  </tbody>\n",
              "</table>\n",
              "</div>\n",
              "      <button class=\"colab-df-convert\" onclick=\"convertToInteractive('df-a57e2835-1f95-49fa-9c7a-8f846850d842')\"\n",
              "              title=\"Convert this dataframe to an interactive table.\"\n",
              "              style=\"display:none;\">\n",
              "        \n",
              "  <svg xmlns=\"http://www.w3.org/2000/svg\" height=\"24px\"viewBox=\"0 0 24 24\"\n",
              "       width=\"24px\">\n",
              "    <path d=\"M0 0h24v24H0V0z\" fill=\"none\"/>\n",
              "    <path d=\"M18.56 5.44l.94 2.06.94-2.06 2.06-.94-2.06-.94-.94-2.06-.94 2.06-2.06.94zm-11 1L8.5 8.5l.94-2.06 2.06-.94-2.06-.94L8.5 2.5l-.94 2.06-2.06.94zm10 10l.94 2.06.94-2.06 2.06-.94-2.06-.94-.94-2.06-.94 2.06-2.06.94z\"/><path d=\"M17.41 7.96l-1.37-1.37c-.4-.4-.92-.59-1.43-.59-.52 0-1.04.2-1.43.59L10.3 9.45l-7.72 7.72c-.78.78-.78 2.05 0 2.83L4 21.41c.39.39.9.59 1.41.59.51 0 1.02-.2 1.41-.59l7.78-7.78 2.81-2.81c.8-.78.8-2.07 0-2.86zM5.41 20L4 18.59l7.72-7.72 1.47 1.35L5.41 20z\"/>\n",
              "  </svg>\n",
              "      </button>\n",
              "      \n",
              "  <style>\n",
              "    .colab-df-container {\n",
              "      display:flex;\n",
              "      flex-wrap:wrap;\n",
              "      gap: 12px;\n",
              "    }\n",
              "\n",
              "    .colab-df-convert {\n",
              "      background-color: #E8F0FE;\n",
              "      border: none;\n",
              "      border-radius: 50%;\n",
              "      cursor: pointer;\n",
              "      display: none;\n",
              "      fill: #1967D2;\n",
              "      height: 32px;\n",
              "      padding: 0 0 0 0;\n",
              "      width: 32px;\n",
              "    }\n",
              "\n",
              "    .colab-df-convert:hover {\n",
              "      background-color: #E2EBFA;\n",
              "      box-shadow: 0px 1px 2px rgba(60, 64, 67, 0.3), 0px 1px 3px 1px rgba(60, 64, 67, 0.15);\n",
              "      fill: #174EA6;\n",
              "    }\n",
              "\n",
              "    [theme=dark] .colab-df-convert {\n",
              "      background-color: #3B4455;\n",
              "      fill: #D2E3FC;\n",
              "    }\n",
              "\n",
              "    [theme=dark] .colab-df-convert:hover {\n",
              "      background-color: #434B5C;\n",
              "      box-shadow: 0px 1px 3px 1px rgba(0, 0, 0, 0.15);\n",
              "      filter: drop-shadow(0px 1px 2px rgba(0, 0, 0, 0.3));\n",
              "      fill: #FFFFFF;\n",
              "    }\n",
              "  </style>\n",
              "\n",
              "      <script>\n",
              "        const buttonEl =\n",
              "          document.querySelector('#df-a57e2835-1f95-49fa-9c7a-8f846850d842 button.colab-df-convert');\n",
              "        buttonEl.style.display =\n",
              "          google.colab.kernel.accessAllowed ? 'block' : 'none';\n",
              "\n",
              "        async function convertToInteractive(key) {\n",
              "          const element = document.querySelector('#df-a57e2835-1f95-49fa-9c7a-8f846850d842');\n",
              "          const dataTable =\n",
              "            await google.colab.kernel.invokeFunction('convertToInteractive',\n",
              "                                                     [key], {});\n",
              "          if (!dataTable) return;\n",
              "\n",
              "          const docLinkHtml = 'Like what you see? Visit the ' +\n",
              "            '<a target=\"_blank\" href=https://colab.research.google.com/notebooks/data_table.ipynb>data table notebook</a>'\n",
              "            + ' to learn more about interactive tables.';\n",
              "          element.innerHTML = '';\n",
              "          dataTable['output_type'] = 'display_data';\n",
              "          await google.colab.output.renderOutput(dataTable, element);\n",
              "          const docLink = document.createElement('div');\n",
              "          docLink.innerHTML = docLinkHtml;\n",
              "          element.appendChild(docLink);\n",
              "        }\n",
              "      </script>\n",
              "    </div>\n",
              "  </div>\n",
              "  "
            ]
          },
          "metadata": {},
          "execution_count": 34
        }
      ]
    },
    {
      "cell_type": "code",
      "source": [
        "data.shape"
      ],
      "metadata": {
        "colab": {
          "base_uri": "https://localhost:8080/"
        },
        "id": "EIm2CulDGp4b",
        "outputId": "091b7421-6b6f-4629-b5ad-be098da6d283"
      },
      "execution_count": 35,
      "outputs": [
        {
          "output_type": "execute_result",
          "data": {
            "text/plain": [
              "(50000, 2)"
            ]
          },
          "metadata": {},
          "execution_count": 35
        }
      ]
    },
    {
      "cell_type": "code",
      "source": [
        "data.dtypes"
      ],
      "metadata": {
        "colab": {
          "base_uri": "https://localhost:8080/"
        },
        "id": "oA7fNb4SJiV7",
        "outputId": "2d570ea9-6d74-415f-e0db-fc8e9864b251"
      },
      "execution_count": 36,
      "outputs": [
        {
          "output_type": "execute_result",
          "data": {
            "text/plain": [
              "processed    object\n",
              "label         int64\n",
              "dtype: object"
            ]
          },
          "metadata": {},
          "execution_count": 36
        }
      ]
    },
    {
      "cell_type": "code",
      "source": [
        "# obtain list of words\n",
        "words = ' '.join(data.processed.values).split()\n",
        "\n",
        "# check our list\n",
        "words[30:40]"
      ],
      "metadata": {
        "id": "YQ5YSgrjbjDj",
        "colab": {
          "base_uri": "https://localhost:8080/"
        },
        "outputId": "5eb6d5a1-6093-4773-9fe0-0d865e1563d1"
      },
      "execution_count": 37,
      "outputs": [
        {
          "output_type": "execute_result",
          "data": {
            "text/plain": [
              "[',',\n",
              " 'show',\n",
              " 'faint',\n",
              " 'hearted',\n",
              " 'timid',\n",
              " '.',\n",
              " 'This',\n",
              " 'show',\n",
              " 'pull',\n",
              " 'punch']"
            ]
          },
          "metadata": {},
          "execution_count": 37
        }
      ]
    },
    {
      "cell_type": "code",
      "source": [
        "# build vocabulary\n",
        "counter = Counter(words)\n",
        "vocab = sorted(counter, key=counter.get, reverse=True)\n",
        "token2word = dict(enumerate(vocab, 1))\n",
        "token2word[0] = '<PAD>'\n",
        "word2token = {word: id for id, word in token2word.items()}"
      ],
      "metadata": {
        "id": "pvHO-JBcf_ZJ"
      },
      "execution_count": 38,
      "outputs": []
    },
    {
      "cell_type": "code",
      "source": [
        "# tokenize reviews\n",
        "reviews = data.processed.values\n",
        "reviews_tokenized = [[word2token[word] for word in review.split()] for review in tqdm(reviews)]\n",
        "\n",
        "# padding sequences\n",
        "def pad_features(reviews, pad_id, seq_length):    \n",
        "    features = np.full((len(reviews), seq_length), pad_id, dtype=int)\n",
        "    for i, row in enumerate(reviews):        \n",
        "        features[i, :len(row)] = np.array(row)[:seq_length]\n",
        "\n",
        "    return features\n",
        "\n",
        "features = pad_features(reviews_tokenized, pad_id=word2token['<PAD>'], seq_length=256)\n",
        "\n",
        "print('number of reviews:', len(reviews_tokenized))\n",
        "print('seq_length:', len(features[0]))\n",
        "\n",
        "# print first-5 words of first 3 reviews\n",
        "print('\\n first-five words of the first-three reviews:')\n",
        "print('===============')\n",
        "features[:3, :5]"
      ],
      "metadata": {
        "id": "KmutxG8If_be",
        "colab": {
          "base_uri": "https://localhost:8080/"
        },
        "outputId": "e683f97e-ac06-4604-cbfa-06d693906b82"
      },
      "execution_count": 39,
      "outputs": [
        {
          "output_type": "stream",
          "name": "stderr",
          "text": [
            "100%|██████████| 50000/50000 [00:01<00:00, 25499.03it/s]\n"
          ]
        },
        {
          "output_type": "stream",
          "name": "stdout",
          "text": [
            "number of reviews: 50000\n",
            "seq_length: 256\n",
            "\n",
            " first-five words of the first-three reviews:\n",
            "===============\n"
          ]
        },
        {
          "output_type": "execute_result",
          "data": {
            "text/plain": [
              "array([[ 191, 1083,  930,   81, 3724],\n",
              "       [  47,  328,   59,  244,    1],\n",
              "       [   3,   95,  328,   30, 1041]])"
            ]
          },
          "metadata": {},
          "execution_count": 39
        }
      ]
    },
    {
      "cell_type": "markdown",
      "source": [
        "### Dataloader"
      ],
      "metadata": {
        "id": "10gym2O8k4Jr"
      }
    },
    {
      "cell_type": "code",
      "source": [
        "# we use 70%, 15%, 15% for train, validation, and test sets\n",
        "train_size = .7     \n",
        "val_size = .5\n",
        "labels = data.label.to_numpy()       \n",
        "\n",
        "# make train set\n",
        "split_id = int(len(features) * train_size)\n",
        "train_x, remain_x = features[:split_id], features[split_id:]\n",
        "train_y, remain_y = labels[:split_id], labels[split_id:]\n",
        "\n",
        "# make val and test set\n",
        "split_val_id = int(len(remain_x) * val_size)\n",
        "val_x, test_x = remain_x[:split_val_id], remain_x[split_val_id:]\n",
        "val_y, test_y = remain_y[:split_val_id], remain_y[split_val_id:]\n",
        "\n",
        "# print out the shape\n",
        "print('Train set: {}'.format(train_x.shape))\n",
        "print('Validation set: {}'.format(val_x.shape))\n",
        "print('Test set: {}'.format(test_x.shape))"
      ],
      "metadata": {
        "id": "fUtpw4oSjwOq",
        "colab": {
          "base_uri": "https://localhost:8080/"
        },
        "outputId": "33c26a3e-72fb-4d02-b41f-0e04be956e13"
      },
      "execution_count": 40,
      "outputs": [
        {
          "output_type": "stream",
          "name": "stdout",
          "text": [
            "Train set: (35000, 256)\n",
            "Validation set: (7500, 256)\n",
            "Test set: (7500, 256)\n"
          ]
        }
      ]
    },
    {
      "cell_type": "code",
      "source": [
        "class MyDataset(torch.utils.data.Dataset):\n",
        "    def __init__(self, reviews, labels):                  \n",
        "        self.data = torch.utils.data.TensorDataset(torch.from_numpy(reviews), torch.from_numpy(labels))#.float())        \n",
        "\n",
        "    def __len__(self):\n",
        "        return len(self.data)\n",
        "\n",
        "    def __getitem__(self, index):                                \n",
        "        review = self.data[index][0]\n",
        "        label = self.data[index][1]\n",
        "\n",
        "        return {'review': review, 'label': label}        \n",
        "\n",
        "\n",
        "train_set = MyDataset(train_x, train_y)\n",
        "val_set = MyDataset(val_x, val_y)\n",
        "test_set = MyDataset(test_x, test_y)\n",
        "\n",
        "train_loader = torch.utils.data.DataLoader(train_set, shuffle=True, batch_size=128)\n",
        "val_loader = torch.utils.data.DataLoader(val_set, shuffle=True, batch_size=128)\n",
        "test_loader = torch.utils.data.DataLoader(test_set, shuffle=True, batch_size=128)"
      ],
      "metadata": {
        "id": "XPqwDm8dsqle"
      },
      "execution_count": 41,
      "outputs": []
    },
    {
      "cell_type": "markdown",
      "source": [
        "### ToDo: Network\n",
        "\n",
        "Implement a neural network based on Long short-term memory (LSTM) that takes a series of words (a review) as input and returns the label of the review indicating whether it is positive (1) or negative (0).\n",
        "\n",
        "Your network should take a python dictionary as input and extract the input sentences from it. Your network should return a python dictionaly containing a key named 'label'."
      ],
      "metadata": {
        "id": "fKcwr-Z7lwyM"
      }
    },
    {
      "cell_type": "code",
      "source": [
        "# ToDo: Implement your neural network \n",
        "class SentimentLSTM(nn.Module):\n",
        "    def __init__(self):\n",
        "        super(SentimentLSTM, self).__init__()\n",
        "\n",
        "        # ToDo: code here\n",
        "        self.embedding = torch.nn.Embedding(121301, 256)\n",
        "        self.lstm = torch.nn.LSTM(256,128, batch_first = True)    \n",
        "        self.dropout = torch.nn.Dropout(p=0.5)    \n",
        "\n",
        "        self.fc = torch.nn.Linear(128, 2) # out 2 because we want either 0 or 1\n",
        "        \n",
        "        self.sig = torch.nn.Sigmoid()\n",
        "\n",
        "    def forward(self, input_dict):              \n",
        "        x = input_dict['review'] \n",
        "        \n",
        "        # ToDo: code here\n",
        "        emb = self.embedding(x)\n",
        "        out,(next, curr) = self.lstm(emb)\n",
        "\n",
        "        next.squeeze_(0)\n",
        "        t = self.dropout(next)\n",
        "        pred_label = self.fc(next)\n",
        "        pred_label = self.sig(pred_label)\n",
        "        # print(pred_label)\n",
        "        # print(pred_label.shape)\n",
        "        return {'label': pred_label}\n",
        "\n",
        "network = SentimentLSTM().to('cuda')\n",
        "print(network)"
      ],
      "metadata": {
        "id": "J4SS_pxBjwTt",
        "colab": {
          "base_uri": "https://localhost:8080/"
        },
        "outputId": "9f047ba1-fc77-49bc-bee4-7933c9f713ba"
      },
      "execution_count": 42,
      "outputs": [
        {
          "output_type": "stream",
          "name": "stdout",
          "text": [
            "SentimentLSTM(\n",
            "  (embedding): Embedding(121301, 256)\n",
            "  (lstm): LSTM(256, 128, batch_first=True)\n",
            "  (dropout): Dropout(p=0.5, inplace=False)\n",
            "  (fc): Linear(in_features=128, out_features=2, bias=True)\n",
            "  (sig): Sigmoid()\n",
            ")\n"
          ]
        }
      ]
    },
    {
      "cell_type": "markdown",
      "source": [
        "### ToDo: Training"
      ],
      "metadata": {
        "id": "uAl8aDrZq5yo"
      }
    },
    {
      "cell_type": "code",
      "source": [
        "# ToDo: define a suitable loss function \n",
        "def my_loss_function(predicted_label, target_label):\n",
        "\n",
        "  # code here\n",
        "  loss = nn.CrossEntropyLoss()(predicted_label, target_label) #nn.BCELoss()(predicted_label, target_label)\n",
        "  return loss "
      ],
      "metadata": {
        "id": "aywwSvIWaNXl"
      },
      "execution_count": 43,
      "outputs": []
    },
    {
      "cell_type": "code",
      "source": [
        "# training loop\n",
        "%matplotlib inline\n",
        "from IPython import display\n",
        "\n",
        "# prepare plotting\n",
        "fig = plt.figure(figsize=(20, 5), dpi= 80, facecolor='w', edgecolor='k')\n",
        "axes = fig.subplots(1,2)\n",
        "\n",
        "optimizer = torch.optim.Adam(network.parameters(), lr=0.001)\n",
        "\n",
        "num_epochs = 12\n",
        "train_losses = []\n",
        "val_losses = []\n",
        "\n",
        "for e in range(num_epochs):\n",
        "    train_iter = iter(train_loader)\n",
        "    network.train()\n",
        "    for i in range(len(train_loader)):        \n",
        "        batch_cpu = next(train_iter)\n",
        "        batch_gpu = dict_to_device(batch_cpu, 'cuda')\n",
        "        pred = network(batch_gpu)\n",
        "        pred_cpu = dict_to_device(pred, 'cpu')\n",
        "        \n",
        "        # calculate the loss and backward the gradient        \n",
        "        loss = my_loss_function(pred['label'], batch_gpu['label'])        \n",
        "        optimizer.zero_grad()\n",
        "        loss.backward()\n",
        "        optimizer.step()\n",
        "        train_losses.append(loss.item())           \n",
        "\n",
        "        if i%100==0:            \n",
        "            axes[0].cla()                        \n",
        "\n",
        "            # plot the training error on a log plot\n",
        "            axes[0].plot(train_losses, label='loss')\n",
        "            axes[0].set_yscale('log')\n",
        "            axes[0].set_title('Training loss')\n",
        "            axes[0].set_xlabel('number of gradient iterations')\n",
        "            axes[0].legend()\n",
        "\n",
        "            # clear output window and diplay updated figure\n",
        "            display.clear_output(wait=True)\n",
        "            display.display(plt.gcf())\n",
        "            print(\"Training epoch {}, iteration {} of {} ({} %), loss={}\".format(e, i, len(train_loader), 100*i//len(train_loader), train_losses[-1]))            \n",
        "\n",
        "    val_iter = iter(val_loader)\n",
        "    network.eval()    \n",
        "    for i in range(len(val_loader)):\n",
        "        batch_cpu = next(val_iter)\n",
        "        batch_gpu = dict_to_device(batch_cpu, 'cuda')\n",
        "        pred = network(batch_gpu)\n",
        "        pred_cpu = dict_to_device(pred, 'cpu')\n",
        "        \n",
        "        # calculate the loss\n",
        "        with torch.no_grad():\n",
        "            loss = my_loss_function(pred['label'], batch_gpu['label'])        \n",
        "            val_losses.append(loss.item()) \n",
        "\n",
        "        if i%10==0: \n",
        "            axes[1].cla()            \n",
        "\n",
        "            # plot the validation error on a log plot\n",
        "            axes[1].plot(val_losses, label='loss')\n",
        "            axes[1].set_yscale('log')\n",
        "            axes[1].set_title('Validation loss')\n",
        "            axes[1].set_xlabel('number of gradient iterations')\n",
        "            axes[1].legend()\n",
        "\n",
        "            # clear output window and diplay updated figure\n",
        "            display.clear_output(wait=True)\n",
        "            display.display(plt.gcf())\n",
        "            print(\"Validation epoch {}, iteration {} of {} ({} %), loss={}\".format(e, i, len(val_loader), 100*i//len(val_loader), val_losses[-1]))            \n",
        "plt.close('all')"
      ],
      "metadata": {
        "id": "6Y2ytRQVq6KJ",
        "colab": {
          "base_uri": "https://localhost:8080/",
          "height": 274
        },
        "outputId": "afb6ffcd-68cc-46e2-df3b-3150e3692581"
      },
      "execution_count": 47,
      "outputs": [
        {
          "output_type": "display_data",
          "data": {
            "text/plain": [
              "<Figure size 1600x400 with 2 Axes>"
            ],
            "image/png": "[encoded data removed]"
          },
          "metadata": {}
        },
        {
          "output_type": "stream",
          "name": "stdout",
          "text": [
            "Validation epoch 11, iteration 50 of 59 (84 %), loss=0.44364503026008606\n"
          ]
        }
      ]
    },
    {
      "cell_type": "markdown",
      "source": [
        "### ToDo: Evaluation\n",
        "\n",
        "Here we want to report the accuracy of the network's predictions. We have defined a function named 'get_accuracy' that returns the accuracy of the network on its input data.\n",
        "\n",
        "Here, we assumed that the network returns class probabilities as output. If your network returns class indices, you might need to change this evaluation function as well.\n",
        "\n",
        "Print the accuracy of your network for the train, validation, and test sets."
      ],
      "metadata": {
        "id": "PGSVFB0g4UJo"
      }
    },
    {
      "cell_type": "code",
      "source": [
        "def get_accuracy(network, data_loader):\n",
        "    network.eval()\n",
        "    iterator = iter(data_loader)    \n",
        "    correct = 0\n",
        "    total = 0\n",
        "    for i in range(len(iterator)):        \n",
        "        batch_cpu = next(iterator)\n",
        "        batch_gpu = dict_to_device(batch_cpu, 'cuda')        \n",
        "        pred = network(batch_gpu)['label'].argmax(dim=1, keepdim=True) \n",
        "        binary_pred = torch.where(pred < 0.5, 0, 1).squeeze(-1)\n",
        "        correct += binary_pred.eq(batch_gpu['label']).sum().item()        \n",
        "        total += binary_pred.shape[0]\n",
        "           \n",
        "    return correct / total"
      ],
      "metadata": {
        "id": "oyRNmKET4UJt"
      },
      "execution_count": 48,
      "outputs": []
    },
    {
      "cell_type": "code",
      "source": [
        "# ToDo: report accuracy on train, validation, and test sets\n",
        "train_acc = get_accuracy(network, train_loader)\n",
        "val_acc = get_accuracy(network, val_loader)\n",
        "test_acc = get_accuracy(network, test_loader)\n",
        "\n",
        "print(f\" training accuracy is {train_acc}\\n validation accuracy {val_acc}\\n test accuracy {test_acc}\")"
      ],
      "metadata": {
        "id": "MmHOEPBc4UJt",
        "colab": {
          "base_uri": "https://localhost:8080/"
        },
        "outputId": "4ed8eb02-138e-4b98-ff32-efcf12177a60"
      },
      "execution_count": 49,
      "outputs": [
        {
          "output_type": "stream",
          "name": "stdout",
          "text": [
            " training accuracy is 0.9606\n",
            " validation accuracy 0.8448\n",
            " test accuracy 0.8497333333333333\n"
          ]
        }
      ]
    },
    {
      "cell_type": "code",
      "source": [
        "# ToDo: print the input review and output of your network for one positive\n",
        "# negative and positive below \n",
        "rev1_text = reviews[-1]\n",
        "rev1 = test_set[-1]\n",
        "rev1_label = test_set[-1]['label'].item()\n",
        "network.eval()\n",
        "batch_gpu = dict_to_device(rev1, 'cuda')\n",
        "pred_rev1 = network(batch_gpu)['label'].argmax(dim=0, keepdim=True).item() # no bacth so dim=0\n",
        "#print(pred_rev1)\n",
        "print(\"First Review:\\n\")\n",
        "print(rev1_text)\n",
        "#print()\n",
        "print(f\"First Review Label: {rev1_label}, First Review Prediction: {pred_rev1}\")\n",
        "print()\n",
        "\n",
        "rev2_text = reviews[-5]\n",
        "rev2 = test_set[-5]\n",
        "rev2_label = test_set[-5]['label'].item()\n",
        "network.eval()\n",
        "batch_gpu = dict_to_device(rev2, 'cuda')\n",
        "pred_rev2 = network(batch_gpu)['label'].argmax(dim=0, keepdim=True).item() \n",
        "#print(pred_rev1)\n",
        "print(\"Second Review:\\n\")\n",
        "print(rev2_text)\n",
        "#print()\n",
        "print(f\"Second Review Label: {rev2_label}, Second Review Prediction: {pred_rev2}\")"
      ],
      "metadata": {
        "id": "hXbG8MEo4UJt",
        "colab": {
          "base_uri": "https://localhost:8080/"
        },
        "outputId": "37ecca0e-98c8-4890-c420-70ea6c192af0"
      },
      "execution_count": 50,
      "outputs": [
        {
          "output_type": "stream",
          "name": "stdout",
          "text": [
            "First Review:\n",
            "\n",
            "No one expects Star Trek movie high art , fan expect movie good best episode . Unfortunately , movie muddled , implausible plot left cringing - far worst nine far movie . Even chance watch well known character interact another movie save movie - including goofy scene Kirk , Spock McCoy Yosemite . I would say movie worth rental , hardly worth watching , however True Fan need see movie , renting movie way see - even cable channel avoid movie .\n",
            "First Review Label: 0, First Review Prediction: 0\n",
            "\n",
            "Second Review:\n",
            "\n",
            "I thought movie right good job . It creative original first , expecting . It whole lotta fun . think like , come DVD I going pay money proudly , every last cent . Sharon Stone great , always , even movie horrible Catwoman , movie , one movie underrated lifetime , probably become classic like yr . Don wait classic , watch enjoy . Don expect masterpiece , something thats gripping soul touching , allow get life get involved . All , movie entertaining recommend people seen see , critic box office say always count , see , never know , might enjoy . I tip hat movie\n",
            "Second Review Label: 1, Second Review Prediction: 1\n"
          ]
        }
      ]
    },
    {
      "cell_type": "code",
      "source": [],
      "metadata": {
        "id": "nG3EdhxMFijN"
      },
      "execution_count": 50,
      "outputs": []
    }
  ],
  "metadata": {
    "kernelspec": {
      "display_name": "Python 3",
      "language": "python",
      "name": "python3"
    },
    "language_info": {
      "codemirror_mode": {
        "name": "ipython",
        "version": 3
      },
      "file_extension": ".py",
      "mimetype": "text/x-python",
      "name": "python",
      "nbconvert_exporter": "python",
      "pygments_lexer": "ipython3",
      "version": "3.7.11"
    },
    "colab": {
      "provenance": [],
      "toc_visible": true
    },
    "accelerator": "GPU",
    "gpuClass": "standard"
  },
  "nbformat": 4,
  "nbformat_minor": 0
}